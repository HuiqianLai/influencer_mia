{
 "cells": [
  {
   "cell_type": "code",
   "id": "initial_id",
   "metadata": {
    "collapsed": true,
    "ExecuteTime": {
     "end_time": "2025-10-16T19:54:40.736131Z",
     "start_time": "2025-10-16T19:54:40.707888Z"
    }
   },
   "source": [
    "import json\n",
    "\n",
    "# 读取原始JSON文件\n",
    "input_file = '/Users/huiqianlai/Documents/GitHub/influencer_mia/youtube_downloads_test/transcripts_all.json'  # 替换成你的文件名\n",
    "output_file = 'sample.json'     # 输出文件名\n",
    "\n",
    "# 读取JSON文件\n",
    "with open(input_file, 'r', encoding='utf-8') as f:\n",
    "    data = json.load(f)\n",
    "\n",
    "# 提取样本\n",
    "# 如果是数组,取前3个\n",
    "if isinstance(data, list):\n",
    "    sample_data = data[:3]\n",
    "# 如果是字典且包含一个数组字段,需要指定字段名\n",
    "elif isinstance(data, dict):\n",
    "    # 找到第一个数组类型的值\n",
    "    for key, value in data.items():\n",
    "        if isinstance(value, list):\n",
    "            sample_data = {key: value[:3]}\n",
    "            # 保留其他非数组字段\n",
    "            for k, v in data.items():\n",
    "                if k != key and not isinstance(v, list):\n",
    "                    sample_data[k] = v\n",
    "            break\n",
    "    else:\n",
    "        # 如果没有数组,就直接用原数据\n",
    "        sample_data = data\n",
    "\n",
    "# 保存到新文件\n",
    "with open(output_file, 'w', encoding='utf-8') as f:\n",
    "    json.dump(sample_data, f, ensure_ascii=False, indent=2)\n",
    "\n",
    "print(f\"样本已保存到 {output_file}\")\n",
    "print(f\"样本大小: {len(json.dumps(sample_data))} 字符\")"
   ],
   "outputs": [
    {
     "name": "stdout",
     "output_type": "stream",
     "text": [
      "样本已保存到 sample.json\n",
      "样本大小: 49178 字符\n"
     ]
    }
   ],
   "execution_count": 1
  },
  {
   "metadata": {},
   "cell_type": "code",
   "outputs": [],
   "execution_count": null,
   "source": "",
   "id": "38d788121577bdf4"
  }
 ],
 "metadata": {
  "kernelspec": {
   "display_name": "Python 3",
   "language": "python",
   "name": "python3"
  },
  "language_info": {
   "codemirror_mode": {
    "name": "ipython",
    "version": 2
   },
   "file_extension": ".py",
   "mimetype": "text/x-python",
   "name": "python",
   "nbconvert_exporter": "python",
   "pygments_lexer": "ipython2",
   "version": "2.7.6"
  }
 },
 "nbformat": 4,
 "nbformat_minor": 5
}
